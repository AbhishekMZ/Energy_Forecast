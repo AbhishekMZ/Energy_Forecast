{
  "cells": [
    {
      "cell_type": "markdown",
      "metadata": {
        "id": "yTkZQ9lsXIY5"
      },
      "source": [
        "# **Mounting the Dataset**"
      ]
    },
    {
      "cell_type": "code",
      "execution_count": 2,
      "metadata": {
        "id": "ygB5JgEg4nUY"
      },
      "outputs": [],
      "source": [
        "import pandas as pd\n",
        "energy_edited = pd.read_csv('energy_data.csv') #Includes Total Fossil and Total Hydro\n",
        "energy = pd.read_csv('energy_data.csv')\n",
        "df_weather = pd.read_csv('weather_features.csv')"
      ]
    },
    {
      "cell_type": "code",
      "execution_count": 3,
      "metadata": {
        "id": "d6xtCEOSGayM"
      },
      "outputs": [],
      "source": [
        "import numpy as np\n",
        "import matplotlib.pyplot as plt\n",
        "import seaborn as sns"
      ]
    },
    {
      "cell_type": "markdown",
      "metadata": {
        "id": "uAH99O0s2yQ9"
      },
      "source": [
        "# **Preprocessing Energy Data**"
      ]
    },
    {
      "cell_type": "code",
      "execution_count": 4,
      "metadata": {
        "id": "N23JhCMq4P9m"
      },
      "outputs": [],
      "source": [
        "energy = energy.drop(['generation fossil coal-derived gas','generation fossil oil shale',\n",
        "                            'generation fossil peat', 'generation geothermal',\n",
        "                            'generation hydro pumped storage aggregated', 'generation marine',\n",
        "                            'generation wind offshore', 'forecast wind offshore eday ahead',\n",
        "                            'total load forecast', 'forecast solar day ahead',\n",
        "                            'forecast wind onshore day ahead'],\n",
        "                            axis=1)"
      ]
    },
    {
      "cell_type": "code",
      "execution_count": 5,
      "metadata": {
        "id": "kpgFKYXZ2xkg"
      },
      "outputs": [
        {
          "data": {
            "text/html": [
              "<div>\n",
              "<style scoped>\n",
              "    .dataframe tbody tr th:only-of-type {\n",
              "        vertical-align: middle;\n",
              "    }\n",
              "\n",
              "    .dataframe tbody tr th {\n",
              "        vertical-align: top;\n",
              "    }\n",
              "\n",
              "    .dataframe thead th {\n",
              "        text-align: right;\n",
              "    }\n",
              "</style>\n",
              "<table border=\"1\" class=\"dataframe\">\n",
              "  <thead>\n",
              "    <tr style=\"text-align: right;\">\n",
              "      <th></th>\n",
              "      <th>generation biomass</th>\n",
              "      <th>generation fossil brown coal/lignite</th>\n",
              "      <th>generation fossil gas</th>\n",
              "      <th>generation fossil hard coal</th>\n",
              "      <th>generation fossil oil</th>\n",
              "      <th>generation hydro pumped storage consumption</th>\n",
              "      <th>generation hydro run-of-river and poundage</th>\n",
              "      <th>generation hydro water reservoir</th>\n",
              "      <th>generation nuclear</th>\n",
              "      <th>generation other</th>\n",
              "      <th>generation other renewable</th>\n",
              "      <th>generation solar</th>\n",
              "      <th>generation waste</th>\n",
              "      <th>generation wind onshore</th>\n",
              "      <th>total load actual</th>\n",
              "      <th>price day ahead</th>\n",
              "      <th>price actual</th>\n",
              "    </tr>\n",
              "  </thead>\n",
              "  <tbody>\n",
              "    <tr>\n",
              "      <th>count</th>\n",
              "      <td>35045.000000</td>\n",
              "      <td>35046.000000</td>\n",
              "      <td>35046.000000</td>\n",
              "      <td>35046.000000</td>\n",
              "      <td>35045.000000</td>\n",
              "      <td>35045.000000</td>\n",
              "      <td>35045.000000</td>\n",
              "      <td>35046.000000</td>\n",
              "      <td>35047.000000</td>\n",
              "      <td>35046.000000</td>\n",
              "      <td>35046.000000</td>\n",
              "      <td>35046.000000</td>\n",
              "      <td>35045.000000</td>\n",
              "      <td>35046.000000</td>\n",
              "      <td>35028.000000</td>\n",
              "      <td>35064.000000</td>\n",
              "      <td>35064.000000</td>\n",
              "    </tr>\n",
              "    <tr>\n",
              "      <th>mean</th>\n",
              "      <td>383.513540</td>\n",
              "      <td>448.059208</td>\n",
              "      <td>5622.737488</td>\n",
              "      <td>4256.065742</td>\n",
              "      <td>298.319789</td>\n",
              "      <td>475.577343</td>\n",
              "      <td>972.116108</td>\n",
              "      <td>2605.114735</td>\n",
              "      <td>6263.907039</td>\n",
              "      <td>60.228585</td>\n",
              "      <td>85.639702</td>\n",
              "      <td>1432.665925</td>\n",
              "      <td>269.452133</td>\n",
              "      <td>5464.479769</td>\n",
              "      <td>28696.939905</td>\n",
              "      <td>49.874341</td>\n",
              "      <td>57.884023</td>\n",
              "    </tr>\n",
              "    <tr>\n",
              "      <th>std</th>\n",
              "      <td>85.353943</td>\n",
              "      <td>354.568590</td>\n",
              "      <td>2201.830478</td>\n",
              "      <td>1961.601013</td>\n",
              "      <td>52.520673</td>\n",
              "      <td>792.406614</td>\n",
              "      <td>400.777536</td>\n",
              "      <td>1835.199745</td>\n",
              "      <td>839.667958</td>\n",
              "      <td>20.238381</td>\n",
              "      <td>14.077554</td>\n",
              "      <td>1680.119887</td>\n",
              "      <td>50.195536</td>\n",
              "      <td>3213.691587</td>\n",
              "      <td>4574.987950</td>\n",
              "      <td>14.618900</td>\n",
              "      <td>14.204083</td>\n",
              "    </tr>\n",
              "    <tr>\n",
              "      <th>min</th>\n",
              "      <td>0.000000</td>\n",
              "      <td>0.000000</td>\n",
              "      <td>0.000000</td>\n",
              "      <td>0.000000</td>\n",
              "      <td>0.000000</td>\n",
              "      <td>0.000000</td>\n",
              "      <td>0.000000</td>\n",
              "      <td>0.000000</td>\n",
              "      <td>0.000000</td>\n",
              "      <td>0.000000</td>\n",
              "      <td>0.000000</td>\n",
              "      <td>0.000000</td>\n",
              "      <td>0.000000</td>\n",
              "      <td>0.000000</td>\n",
              "      <td>18041.000000</td>\n",
              "      <td>2.060000</td>\n",
              "      <td>9.330000</td>\n",
              "    </tr>\n",
              "    <tr>\n",
              "      <th>25%</th>\n",
              "      <td>333.000000</td>\n",
              "      <td>0.000000</td>\n",
              "      <td>4126.000000</td>\n",
              "      <td>2527.000000</td>\n",
              "      <td>263.000000</td>\n",
              "      <td>0.000000</td>\n",
              "      <td>637.000000</td>\n",
              "      <td>1077.250000</td>\n",
              "      <td>5760.000000</td>\n",
              "      <td>53.000000</td>\n",
              "      <td>73.000000</td>\n",
              "      <td>71.000000</td>\n",
              "      <td>240.000000</td>\n",
              "      <td>2933.000000</td>\n",
              "      <td>24807.750000</td>\n",
              "      <td>41.490000</td>\n",
              "      <td>49.347500</td>\n",
              "    </tr>\n",
              "    <tr>\n",
              "      <th>50%</th>\n",
              "      <td>367.000000</td>\n",
              "      <td>509.000000</td>\n",
              "      <td>4969.000000</td>\n",
              "      <td>4474.000000</td>\n",
              "      <td>300.000000</td>\n",
              "      <td>68.000000</td>\n",
              "      <td>906.000000</td>\n",
              "      <td>2164.000000</td>\n",
              "      <td>6566.000000</td>\n",
              "      <td>57.000000</td>\n",
              "      <td>88.000000</td>\n",
              "      <td>616.000000</td>\n",
              "      <td>279.000000</td>\n",
              "      <td>4849.000000</td>\n",
              "      <td>28901.000000</td>\n",
              "      <td>50.520000</td>\n",
              "      <td>58.020000</td>\n",
              "    </tr>\n",
              "    <tr>\n",
              "      <th>75%</th>\n",
              "      <td>433.000000</td>\n",
              "      <td>757.000000</td>\n",
              "      <td>6429.000000</td>\n",
              "      <td>5838.750000</td>\n",
              "      <td>330.000000</td>\n",
              "      <td>616.000000</td>\n",
              "      <td>1250.000000</td>\n",
              "      <td>3757.000000</td>\n",
              "      <td>7025.000000</td>\n",
              "      <td>80.000000</td>\n",
              "      <td>97.000000</td>\n",
              "      <td>2578.000000</td>\n",
              "      <td>310.000000</td>\n",
              "      <td>7398.000000</td>\n",
              "      <td>32192.000000</td>\n",
              "      <td>60.530000</td>\n",
              "      <td>68.010000</td>\n",
              "    </tr>\n",
              "    <tr>\n",
              "      <th>max</th>\n",
              "      <td>592.000000</td>\n",
              "      <td>999.000000</td>\n",
              "      <td>20034.000000</td>\n",
              "      <td>8359.000000</td>\n",
              "      <td>449.000000</td>\n",
              "      <td>4523.000000</td>\n",
              "      <td>2000.000000</td>\n",
              "      <td>9728.000000</td>\n",
              "      <td>7117.000000</td>\n",
              "      <td>106.000000</td>\n",
              "      <td>119.000000</td>\n",
              "      <td>5792.000000</td>\n",
              "      <td>357.000000</td>\n",
              "      <td>17436.000000</td>\n",
              "      <td>41015.000000</td>\n",
              "      <td>101.990000</td>\n",
              "      <td>116.800000</td>\n",
              "    </tr>\n",
              "  </tbody>\n",
              "</table>\n",
              "</div>"
            ],
            "text/plain": [
              "       generation biomass  generation fossil brown coal/lignite  \\\n",
              "count        35045.000000                          35046.000000   \n",
              "mean           383.513540                            448.059208   \n",
              "std             85.353943                            354.568590   \n",
              "min              0.000000                              0.000000   \n",
              "25%            333.000000                              0.000000   \n",
              "50%            367.000000                            509.000000   \n",
              "75%            433.000000                            757.000000   \n",
              "max            592.000000                            999.000000   \n",
              "\n",
              "       generation fossil gas  generation fossil hard coal  \\\n",
              "count           35046.000000                 35046.000000   \n",
              "mean             5622.737488                  4256.065742   \n",
              "std              2201.830478                  1961.601013   \n",
              "min                 0.000000                     0.000000   \n",
              "25%              4126.000000                  2527.000000   \n",
              "50%              4969.000000                  4474.000000   \n",
              "75%              6429.000000                  5838.750000   \n",
              "max             20034.000000                  8359.000000   \n",
              "\n",
              "       generation fossil oil  generation hydro pumped storage consumption  \\\n",
              "count           35045.000000                                 35045.000000   \n",
              "mean              298.319789                                   475.577343   \n",
              "std                52.520673                                   792.406614   \n",
              "min                 0.000000                                     0.000000   \n",
              "25%               263.000000                                     0.000000   \n",
              "50%               300.000000                                    68.000000   \n",
              "75%               330.000000                                   616.000000   \n",
              "max               449.000000                                  4523.000000   \n",
              "\n",
              "       generation hydro run-of-river and poundage  \\\n",
              "count                                35045.000000   \n",
              "mean                                   972.116108   \n",
              "std                                    400.777536   \n",
              "min                                      0.000000   \n",
              "25%                                    637.000000   \n",
              "50%                                    906.000000   \n",
              "75%                                   1250.000000   \n",
              "max                                   2000.000000   \n",
              "\n",
              "       generation hydro water reservoir  generation nuclear  generation other  \\\n",
              "count                      35046.000000        35047.000000      35046.000000   \n",
              "mean                        2605.114735         6263.907039         60.228585   \n",
              "std                         1835.199745          839.667958         20.238381   \n",
              "min                            0.000000            0.000000          0.000000   \n",
              "25%                         1077.250000         5760.000000         53.000000   \n",
              "50%                         2164.000000         6566.000000         57.000000   \n",
              "75%                         3757.000000         7025.000000         80.000000   \n",
              "max                         9728.000000         7117.000000        106.000000   \n",
              "\n",
              "       generation other renewable  generation solar  generation waste  \\\n",
              "count                35046.000000      35046.000000      35045.000000   \n",
              "mean                    85.639702       1432.665925        269.452133   \n",
              "std                     14.077554       1680.119887         50.195536   \n",
              "min                      0.000000          0.000000          0.000000   \n",
              "25%                     73.000000         71.000000        240.000000   \n",
              "50%                     88.000000        616.000000        279.000000   \n",
              "75%                     97.000000       2578.000000        310.000000   \n",
              "max                    119.000000       5792.000000        357.000000   \n",
              "\n",
              "       generation wind onshore  total load actual  price day ahead  \\\n",
              "count             35046.000000       35028.000000     35064.000000   \n",
              "mean               5464.479769       28696.939905        49.874341   \n",
              "std                3213.691587        4574.987950        14.618900   \n",
              "min                   0.000000       18041.000000         2.060000   \n",
              "25%                2933.000000       24807.750000        41.490000   \n",
              "50%                4849.000000       28901.000000        50.520000   \n",
              "75%                7398.000000       32192.000000        60.530000   \n",
              "max               17436.000000       41015.000000       101.990000   \n",
              "\n",
              "       price actual  \n",
              "count  35064.000000  \n",
              "mean      57.884023  \n",
              "std       14.204083  \n",
              "min        9.330000  \n",
              "25%       49.347500  \n",
              "50%       58.020000  \n",
              "75%       68.010000  \n",
              "max      116.800000  "
            ]
          },
          "execution_count": 5,
          "metadata": {},
          "output_type": "execute_result"
        }
      ],
      "source": [
        "energy.describe()"
      ]
    },
    {
      "cell_type": "code",
      "execution_count": 6,
      "metadata": {
        "id": "Ix-CopCe-URV"
      },
      "outputs": [
        {
          "name": "stdout",
          "output_type": "stream",
          "text": [
            "<class 'pandas.core.frame.DataFrame'>\n",
            "RangeIndex: 35064 entries, 0 to 35063\n",
            "Data columns (total 18 columns):\n",
            " #   Column                                       Non-Null Count  Dtype  \n",
            "---  ------                                       --------------  -----  \n",
            " 0   time                                         35064 non-null  object \n",
            " 1   generation biomass                           35045 non-null  float64\n",
            " 2   generation fossil brown coal/lignite         35046 non-null  float64\n",
            " 3   generation fossil gas                        35046 non-null  float64\n",
            " 4   generation fossil hard coal                  35046 non-null  float64\n",
            " 5   generation fossil oil                        35045 non-null  float64\n",
            " 6   generation hydro pumped storage consumption  35045 non-null  float64\n",
            " 7   generation hydro run-of-river and poundage   35045 non-null  float64\n",
            " 8   generation hydro water reservoir             35046 non-null  float64\n",
            " 9   generation nuclear                           35047 non-null  float64\n",
            " 10  generation other                             35046 non-null  float64\n",
            " 11  generation other renewable                   35046 non-null  float64\n",
            " 12  generation solar                             35046 non-null  float64\n",
            " 13  generation waste                             35045 non-null  float64\n",
            " 14  generation wind onshore                      35046 non-null  float64\n",
            " 15  total load actual                            35028 non-null  float64\n",
            " 16  price day ahead                              35064 non-null  float64\n",
            " 17  price actual                                 35064 non-null  float64\n",
            "dtypes: float64(17), object(1)\n",
            "memory usage: 4.8+ MB\n"
          ]
        }
      ],
      "source": [
        "energy.info()"
      ]
    },
    {
      "cell_type": "code",
      "execution_count": 7,
      "metadata": {
        "id": "aByu-xkl_gEH"
      },
      "outputs": [
        {
          "name": "stderr",
          "output_type": "stream",
          "text": [
            "C:\\Users\\vibha\\AppData\\Local\\Temp\\ipykernel_25344\\436680636.py:3: UserWarning: The argument 'infer_datetime_format' is deprecated and will be removed in a future version. A strict version of it is now the default, see https://pandas.pydata.org/pdeps/0004-consistent-to-datetime-parsing.html. You can safely remove this argument.\n",
            "  energy['time'] = pd.to_datetime(energy['time'], utc=True, infer_datetime_format=True)\n"
          ]
        }
      ],
      "source": [
        "# Convert time to datetime object and set it as index\n",
        "\n",
        "energy['time'] = pd.to_datetime(energy['time'], utc=True, infer_datetime_format=True)\n",
        "energy = energy.set_index('time')"
      ]
    },
    {
      "cell_type": "code",
      "execution_count": 8,
      "metadata": {
        "id": "LPCQnLXpALZN"
      },
      "outputs": [
        {
          "data": {
            "text/plain": [
              "generation biomass                             19\n",
              "generation fossil brown coal/lignite           18\n",
              "generation fossil gas                          18\n",
              "generation fossil hard coal                    18\n",
              "generation fossil oil                          19\n",
              "generation hydro pumped storage consumption    19\n",
              "generation hydro run-of-river and poundage     19\n",
              "generation hydro water reservoir               18\n",
              "generation nuclear                             17\n",
              "generation other                               18\n",
              "generation other renewable                     18\n",
              "generation solar                               18\n",
              "generation waste                               19\n",
              "generation wind onshore                        18\n",
              "total load actual                              36\n",
              "price day ahead                                 0\n",
              "price actual                                    0\n",
              "dtype: int64"
            ]
          },
          "execution_count": 8,
          "metadata": {},
          "output_type": "execute_result"
        }
      ],
      "source": [
        "energy.isnull().sum()"
      ]
    },
    {
      "cell_type": "code",
      "execution_count": 9,
      "metadata": {
        "id": "7rmtbr8UCV-_"
      },
      "outputs": [],
      "source": [
        "import matplotlib.pyplot as plt\n",
        "import seaborn as sns\n",
        "# Define a function to plot different types of time-series\n",
        "\n",
        "def plot_series(df=None, column=None, series=pd.Series([]),\n",
        "                label=None, ylabel=None, title=None, start=0, end=None):\n",
        "    \"\"\"\n",
        "    Plots a certain time-series which has either been loaded in a dataframe\n",
        "    and which constitutes one of its columns or it a custom pandas series\n",
        "    created by the user. The user can define either the 'df' and the 'column'\n",
        "    or the 'series' and additionally, can also define the 'label', the\n",
        "    'ylabel', the 'title', the 'start' and the 'end' of the plot.\n",
        "    \"\"\"\n",
        "    sns.set()\n",
        "    fig, ax = plt.subplots(figsize=(30, 12))\n",
        "    ax.set_xlabel('Time', fontsize=16)\n",
        "    if column:\n",
        "        ax.plot(df[column][start:end], label=label)\n",
        "        ax.set_ylabel(ylabel, fontsize=16)\n",
        "    if series.any():\n",
        "        ax.plot(series, label=label)\n",
        "        ax.set_ylabel(ylabel, fontsize=16)\n",
        "    if label:\n",
        "        ax.legend(fontsize=16)\n",
        "    if title:\n",
        "        ax.set_title(title, fontsize=24)\n",
        "    ax.grid(True)\n",
        "    return ax"
      ]
    },
    {
      "cell_type": "code",
      "execution_count": 10,
      "metadata": {
        "colab": {
          "background_save": true
        },
        "id": "17Agm_sfCqre",
        "outputId": "c1182303-aefb-4072-cc4e-4122ecae3f45"
      },
      "outputs": [
        {
          "data": {
            "image/png": "[encoded data removed]",
            "text/plain": [
              "<Figure size 3000x1200 with 1 Axes>"
            ]
          },
          "metadata": {},
          "output_type": "display_data"
        }
      ],
      "source": [
        "# Zoom into the plot of the hourly (actual) total load\n",
        "\n",
        "ax = plot_series(df=energy, column='total load actual', ylabel='Total Load (MWh)',\n",
        "                 title='Actual Total Load (First 2 weeks - Original)', end=24*7*2)\n",
        "plt.show()"
      ]
    },
    {
      "cell_type": "markdown",
      "metadata": {
        "id": "26jcrtl7DJMm"
      },
      "source": [
        "After zooming into the first 2 weeks of the 'total load actual' column, we can already see that there are null values for a few hours. However, the number of the missing values and the behavior of the series indicate that an interpolation would fill the NaNs quite well."
      ]
    },
    {
      "cell_type": "code",
      "execution_count": 11,
      "metadata": {
        "colab": {
          "background_save": true
        },
        "id": "f3xceN9XDZwl"
      },
      "outputs": [],
      "source": [
        "# Fill null values using interpolation\n",
        "energy.interpolate(method='linear', limit_direction='forward', inplace=True, axis=0)"
      ]
    },
    {
      "cell_type": "code",
      "execution_count": 12,
      "metadata": {
        "colab": {
          "background_save": true
        },
        "id": "ZKkl9fCyDg_S",
        "outputId": "3d8047a6-2745-4431-e8a4-4951f7902fc0"
      },
      "outputs": [
        {
          "data": {
            "text/plain": [
              "generation biomass                             0\n",
              "generation fossil brown coal/lignite           0\n",
              "generation fossil gas                          0\n",
              "generation fossil hard coal                    0\n",
              "generation fossil oil                          0\n",
              "generation hydro pumped storage consumption    0\n",
              "generation hydro run-of-river and poundage     0\n",
              "generation hydro water reservoir               0\n",
              "generation nuclear                             0\n",
              "generation other                               0\n",
              "generation other renewable                     0\n",
              "generation solar                               0\n",
              "generation waste                               0\n",
              "generation wind onshore                        0\n",
              "total load actual                              0\n",
              "price day ahead                                0\n",
              "price actual                                   0\n",
              "dtype: int64"
            ]
          },
          "execution_count": 12,
          "metadata": {},
          "output_type": "execute_result"
        }
      ],
      "source": [
        "energy.isnull().sum()"
      ]
    },
    {
      "cell_type": "markdown",
      "metadata": {
        "id": "RbWJcsnQ4ENi"
      },
      "source": [
        "#**Preprocessing Weather Data**"
      ]
    },
    {
      "cell_type": "code",
      "execution_count": 13,
      "metadata": {
        "colab": {
          "background_save": true
        },
        "id": "oeBI65f04Zm4",
        "outputId": "77c5db9b-7c4d-486b-bb18-3535c76ec6ae"
      },
      "outputs": [
        {
          "name": "stdout",
          "output_type": "stream",
          "text": [
            "<class 'pandas.core.frame.DataFrame'>\n",
            "RangeIndex: 178396 entries, 0 to 178395\n",
            "Data columns (total 17 columns):\n",
            " #   Column               Non-Null Count   Dtype  \n",
            "---  ------               --------------   -----  \n",
            " 0   dt_iso               178396 non-null  object \n",
            " 1   city_name            178396 non-null  object \n",
            " 2   temp                 178396 non-null  float64\n",
            " 3   temp_min             178396 non-null  float64\n",
            " 4   temp_max             178396 non-null  float64\n",
            " 5   pressure             178396 non-null  int64  \n",
            " 6   humidity             178396 non-null  int64  \n",
            " 7   wind_speed           178396 non-null  int64  \n",
            " 8   wind_deg             178396 non-null  int64  \n",
            " 9   rain_1h              178396 non-null  float64\n",
            " 10  rain_3h              178396 non-null  float64\n",
            " 11  snow_3h              178396 non-null  float64\n",
            " 12  clouds_all           178396 non-null  int64  \n",
            " 13  weather_id           178396 non-null  int64  \n",
            " 14  weather_main         178396 non-null  object \n",
            " 15  weather_description  178396 non-null  object \n",
            " 16  weather_icon         178396 non-null  object \n",
            "dtypes: float64(6), int64(6), object(5)\n",
            "memory usage: 23.1+ MB\n"
          ]
        }
      ],
      "source": [
        "df_weather.info()\n"
      ]
    },
    {
      "cell_type": "code",
      "execution_count": 14,
      "metadata": {
        "colab": {
          "background_save": true
        },
        "id": "_7_qYk7HGHDC"
      },
      "outputs": [],
      "source": [
        "def df_convert_dtypes(df, convert_from, convert_to):\n",
        "    cols = df.select_dtypes(include=[convert_from]).columns\n",
        "    for col in cols:\n",
        "        df[col] = df[col].values.astype(convert_to)\n",
        "    return df\n",
        "df_weather = df_convert_dtypes(df_weather, np.int64, np.float64)"
      ]
    },
    {
      "cell_type": "code",
      "execution_count": 15,
      "metadata": {
        "colab": {
          "background_save": true
        },
        "id": "4OMVjjldGHKG"
      },
      "outputs": [
        {
          "name": "stderr",
          "output_type": "stream",
          "text": [
            "C:\\Users\\vibha\\AppData\\Local\\Temp\\ipykernel_25344\\1173290744.py:1: UserWarning: The argument 'infer_datetime_format' is deprecated and will be removed in a future version. A strict version of it is now the default, see https://pandas.pydata.org/pdeps/0004-consistent-to-datetime-parsing.html. You can safely remove this argument.\n",
            "  df_weather['time'] = pd.to_datetime(df_weather['dt_iso'], utc=True, infer_datetime_format=True)\n"
          ]
        }
      ],
      "source": [
        "df_weather['time'] = pd.to_datetime(df_weather['dt_iso'], utc=True, infer_datetime_format=True)\n",
        "df_weather = df_weather.drop(['dt_iso'], axis=1)\n",
        "df_weather = df_weather.set_index('time')"
      ]
    },
    {
      "cell_type": "code",
      "execution_count": 16,
      "metadata": {
        "colab": {
          "background_save": true
        },
        "id": "ek_EpmrkGHPt",
        "outputId": "45f87bae-b9ee-4ee0-e334-f31fb4c3fad6"
      },
      "outputs": [
        {
          "name": "stdout",
          "output_type": "stream",
          "text": [
            "There are 0 missing values or NaNs in df_weather.\n",
            "There are 8622 duplicate rows in df_weather based on all columns.\n"
          ]
        }
      ],
      "source": [
        "print('There are {} missing values or NaNs in df_weather.'\n",
        "      .format(df_weather.isnull().values.sum()))\n",
        "\n",
        "temp_weather = df_weather.duplicated(keep='first').sum()\n",
        "\n",
        "print('There are {} duplicate rows in df_weather based on all columns.'\n",
        "      .format(temp_weather))"
      ]
    },
    {
      "cell_type": "code",
      "execution_count": 17,
      "metadata": {
        "colab": {
          "background_save": true
        },
        "id": "dKiblDdBKkeS",
        "outputId": "f45434ef-00c1-47e5-ec94-03e65b20fc3d"
      },
      "outputs": [
        {
          "name": "stdout",
          "output_type": "stream",
          "text": [
            "There are 35064 observations in df_energy.\n",
            "There are 35145 observations in df_weather about city: Valencia.\n",
            "There are 36267 observations in df_weather about city: Madrid.\n",
            "There are 35951 observations in df_weather about city: Bilbao.\n",
            "There are 35476 observations in df_weather about city:  Barcelona.\n",
            "There are 35557 observations in df_weather about city: Seville.\n"
          ]
        }
      ],
      "source": [
        "print('There are {} observations in df_energy.'.format(energy.shape[0]))\n",
        "\n",
        "cities = df_weather['city_name'].unique()\n",
        "grouped_weather = df_weather.groupby('city_name')\n",
        "\n",
        "for city in cities:\n",
        "    print('There are {} observations in df_weather'\n",
        "          .format(grouped_weather.get_group('{}'.format(city)).shape[0]),\n",
        "          'about city: {}.'.format(city))"
      ]
    },
    {
      "cell_type": "code",
      "execution_count": 18,
      "metadata": {
        "colab": {
          "background_save": true
        },
        "id": "wauH9pwBGHVa"
      },
      "outputs": [],
      "source": [
        "df_weather_2 = df_weather.reset_index().drop_duplicates(subset=['time', 'city_name'],\n",
        "                                                        keep='last').set_index('time')\n",
        "\n",
        "df_weather = df_weather.reset_index().drop_duplicates(subset=['time', 'city_name'],\n",
        "                                                      keep='first').set_index('time')"
      ]
    },
    {
      "cell_type": "code",
      "execution_count": 19,
      "metadata": {
        "colab": {
          "background_save": true
        },
        "id": "rteB3DPXGHbN",
        "outputId": "4701dadb-9f04-4566-b9c6-13f86cd1fbce"
      },
      "outputs": [
        {
          "name": "stdout",
          "output_type": "stream",
          "text": [
            "There are 35064 observations in df_energy.\n",
            "There are 35064 observations in df_weather about city: Valencia.\n",
            "There are 35064 observations in df_weather about city: Madrid.\n",
            "There are 35064 observations in df_weather about city: Bilbao.\n",
            "There are 35064 observations in df_weather about city:  Barcelona.\n",
            "There are 35064 observations in df_weather about city: Seville.\n"
          ]
        }
      ],
      "source": [
        "print('There are {} observations in df_energy.'.format(energy.shape[0]))\n",
        "\n",
        "cities = df_weather['city_name'].unique()\n",
        "grouped_weather = df_weather.groupby('city_name')\n",
        "\n",
        "for city in cities:\n",
        "    print('There are {} observations in df_weather'\n",
        "          .format(grouped_weather.get_group('{}'.format(city)).shape[0]),\n",
        "          'about city: {}.'.format(city))"
      ]
    },
    {
      "cell_type": "code",
      "execution_count": 20,
      "metadata": {
        "colab": {
          "background_save": true
        },
        "id": "eWtELTqCLjSc",
        "outputId": "70c259bb-c48c-4377-c546-08fd1be38daf"
      },
      "outputs": [
        {
          "data": {
            "text/plain": [
              "array(['sky is clear', 'few clouds', 'scattered clouds', 'broken clouds',\n",
              "       'overcast clouds', 'light rain', 'moderate rain',\n",
              "       'heavy intensity rain', 'mist', 'heavy intensity shower rain',\n",
              "       'shower rain', 'very heavy rain', 'thunderstorm with heavy rain',\n",
              "       'thunderstorm with light rain', 'proximity thunderstorm',\n",
              "       'thunderstorm', 'light intensity shower rain',\n",
              "       'light intensity drizzle', 'thunderstorm with rain', 'fog',\n",
              "       'smoke', 'drizzle', 'heavy intensity drizzle', 'haze',\n",
              "       'proximity shower rain', 'light snow', 'rain and snow',\n",
              "       'light rain and snow', 'snow', 'sleet', 'rain and drizzle',\n",
              "       'light intensity drizzle rain', 'light shower snow',\n",
              "       'proximity moderate rain', 'ragged shower rain', 'heavy snow',\n",
              "       'sand dust whirls', 'proximity drizzle', 'dust',\n",
              "       'light thunderstorm', 'squalls'], dtype=object)"
            ]
          },
          "execution_count": 20,
          "metadata": {},
          "output_type": "execute_result"
        }
      ],
      "source": [
        "weather_description_unique = df_weather['weather_description'].unique()\n",
        "weather_description_unique"
      ]
    },
    {
      "cell_type": "code",
      "execution_count": 21,
      "metadata": {
        "colab": {
          "background_save": true
        },
        "id": "VlLVzZnULjZh",
        "outputId": "2b66c952-d67b-431d-a8d2-e68e90ba74ee"
      },
      "outputs": [
        {
          "data": {
            "text/plain": [
              "array(['clear', 'clouds', 'rain', 'mist', 'thunderstorm', 'drizzle',\n",
              "       'fog', 'smoke', 'haze', 'snow', 'dust', 'squall'], dtype=object)"
            ]
          },
          "execution_count": 21,
          "metadata": {},
          "output_type": "execute_result"
        }
      ],
      "source": [
        "weather_main_unique = df_weather['weather_main'].unique()\n",
        "weather_main_unique"
      ]
    },
    {
      "cell_type": "code",
      "execution_count": 22,
      "metadata": {
        "colab": {
          "background_save": true
        },
        "id": "fCbqxZCrLjhM",
        "outputId": "24842234-12e5-43ad-f679-c7f437745b31"
      },
      "outputs": [
        {
          "data": {
            "text/plain": [
              "array([800., 801., 802., 803., 804., 500., 501., 502., 701., 522., 521.,\n",
              "       503., 202., 200., 211., 520., 300., 201., 741., 711., 301., 302.,\n",
              "       721., 600., 616., 615., 601., 611., 311., 310., 620., 531., 602.,\n",
              "       731., 761., 210., 771.])"
            ]
          },
          "execution_count": 22,
          "metadata": {},
          "output_type": "execute_result"
        }
      ],
      "source": [
        "weather_id_unique = df_weather['weather_id'].unique()\n",
        "weather_id_unique"
      ]
    },
    {
      "cell_type": "code",
      "execution_count": 23,
      "metadata": {
        "colab": {
          "background_save": true
        },
        "id": "tlqCY_GKLybh"
      },
      "outputs": [],
      "source": [
        "from sklearn.preprocessing import LabelEncoder\n",
        "from sklearn.metrics import mean_squared_error, r2_score"
      ]
    },
    {
      "cell_type": "code",
      "execution_count": 24,
      "metadata": {
        "colab": {
          "background_save": true
        },
        "id": "GKnZsjgTLjtL"
      },
      "outputs": [],
      "source": [
        "def encode_and_display_r2_score(df_1, df_2, column, categorical=False):\n",
        "    dfs = [df_1, df_2]\n",
        "    if categorical:\n",
        "        for df in dfs:\n",
        "            le = LabelEncoder()\n",
        "            df[column] = le.fit_transform(df[column])\n",
        "    r2 = r2_score(df_1[column], df_2[column])\n",
        "    print(\"R-Squared score of {} is {}\".format(column, r2.round(3)))"
      ]
    },
    {
      "cell_type": "code",
      "execution_count": 25,
      "metadata": {
        "colab": {
          "background_save": true
        },
        "id": "yQpt26j1LjzV",
        "outputId": "ed5e5d9b-146f-48cf-e643-5d2dd0f68e86"
      },
      "outputs": [
        {
          "name": "stdout",
          "output_type": "stream",
          "text": [
            "R-Squared score of weather_description is 0.973\n",
            "R-Squared score of weather_main is 0.963\n",
            "R-Squared score of weather_id is 0.921\n"
          ]
        }
      ],
      "source": [
        "encode_and_display_r2_score(df_weather, df_weather_2, 'weather_description', categorical=True)\n",
        "encode_and_display_r2_score(df_weather, df_weather_2, 'weather_main', categorical=True)\n",
        "encode_and_display_r2_score(df_weather, df_weather_2, 'weather_id')"
      ]
    },
    {
      "cell_type": "code",
      "execution_count": 26,
      "metadata": {
        "colab": {
          "background_save": true
        },
        "id": "s6zFZAVvMFpb"
      },
      "outputs": [],
      "source": [
        "df_weather = df_weather.drop(['weather_main', 'weather_id',\n",
        "                              'weather_description', 'weather_icon'], axis=1)"
      ]
    },
    {
      "cell_type": "code",
      "execution_count": 27,
      "metadata": {
        "colab": {
          "background_save": true
        },
        "id": "ebmjCanGMIX6",
        "outputId": "5696766c-5529-4af3-c677-d6929b060f4e"
      },
      "outputs": [
        {
          "name": "stdout",
          "output_type": "stream",
          "text": [
            "R-Squared score of temp is 1.0\n",
            "R-Squared score of temp_min is 1.0\n",
            "R-Squared score of temp_max is 1.0\n",
            "R-Squared score of pressure is 1.0\n",
            "R-Squared score of humidity is 1.0\n",
            "R-Squared score of wind_speed is 1.0\n",
            "R-Squared score of wind_deg is 1.0\n",
            "R-Squared score of rain_1h is 1.0\n",
            "R-Squared score of rain_3h is 1.0\n",
            "R-Squared score of snow_3h is 1.0\n",
            "R-Squared score of clouds_all is 1.0\n"
          ]
        }
      ],
      "source": [
        "df_weather_cols = df_weather.columns.drop('city_name')\n",
        "\n",
        "for col in df_weather_cols:\n",
        "    encode_and_display_r2_score(df_weather, df_weather_2, col)"
      ]
    },
    {
      "cell_type": "code",
      "execution_count": 28,
      "metadata": {
        "colab": {
          "background_save": true
        },
        "id": "zCebJ7UlMMPT",
        "outputId": "88249aa6-ef30-402f-fcc4-a23c282a2285"
      },
      "outputs": [
        {
          "name": "stdout",
          "output_type": "stream",
          "text": [
            "There are 0 duplicate rows in df_weather based on all columns except \"time\" and \"city_name\".\n"
          ]
        }
      ],
      "source": [
        "temp_weather = df_weather.reset_index().duplicated(subset=['time', 'city_name'],\n",
        "                                                   keep='first').sum()\n",
        "print('There are {} duplicate rows in df_weather ' \\\n",
        "      'based on all columns except \"time\" and \"city_name\".'.format(temp_weather))"
      ]
    },
    {
      "cell_type": "code",
      "execution_count": 29,
      "metadata": {
        "colab": {
          "background_save": true
        },
        "id": "Ao9OnFC-MMV7",
        "outputId": "977c042c-fa40-4720-ea5c-4548a127aaf3"
      },
      "outputs": [
        {
          "data": {
            "image/png": "[encoded data removed]",
            "text/plain": [
              "<Figure size 640x480 with 1 Axes>"
            ]
          },
          "metadata": {},
          "output_type": "display_data"
        }
      ],
      "source": [
        "sns.boxplot(x=df_weather['pressure'])\n",
        "plt.show()"
      ]
    },
    {
      "cell_type": "code",
      "execution_count": 30,
      "metadata": {
        "colab": {
          "background_save": true
        },
        "id": "D7_os4NAMMcG"
      },
      "outputs": [],
      "source": [
        "df_weather.loc[df_weather.pressure > 1051, 'pressure'] = np.nan\n",
        "df_weather.loc[df_weather.pressure < 931, 'pressure'] = np.nan"
      ]
    },
    {
      "cell_type": "code",
      "execution_count": null,
      "metadata": {},
      "outputs": [],
      "source": []
    },
    {
      "cell_type": "code",
      "execution_count": 31,
      "metadata": {
        "colab": {
          "background_save": true
        },
        "id": "7zWAYxoyMMo5",
        "outputId": "d567cbe3-efa4-43c2-bcf4-a14b367f1f87"
      },
      "outputs": [
        {
          "data": {
            "image/png": "[encoded data removed]",
            "text/plain": [
              "<Figure size 640x480 with 1 Axes>"
            ]
          },
          "metadata": {},
          "output_type": "display_data"
        }
      ],
      "source": [
        "sns.boxplot(x=df_weather['wind_speed'])\n",
        "plt.show()"
      ]
    },
    {
      "cell_type": "code",
      "execution_count": 32,
      "metadata": {
        "colab": {
          "background_save": true
        },
        "id": "Llca-MKCMMvF"
      },
      "outputs": [],
      "source": [
        "df_weather.loc[df_weather.wind_speed > 50, 'wind_speed'] = np.nan"
      ]
    },
    {
      "cell_type": "code",
      "execution_count": null,
      "metadata": {},
      "outputs": [],
      "source": []
    },
    {
      "cell_type": "code",
      "execution_count": 33,
      "metadata": {
        "colab": {
          "background_save": true
        },
        "id": "n241APdTMddN"
      },
      "outputs": [
        {
          "name": "stderr",
          "output_type": "stream",
          "text": [
            "C:\\Users\\vibha\\AppData\\Local\\Temp\\ipykernel_25344\\4288544281.py:1: FutureWarning: DataFrame.interpolate with object dtype is deprecated and will raise in a future version. Call obj.infer_objects(copy=False) before interpolating instead.\n",
            "  df_weather.interpolate(method='linear', limit_direction='forward', inplace=True, axis=0)\n"
          ]
        }
      ],
      "source": [
        "df_weather.interpolate(method='linear', limit_direction='forward', inplace=True, axis=0)"
      ]
    },
    {
      "cell_type": "markdown",
      "metadata": {
        "id": "TTKKk2Kas9Au"
      },
      "source": [
        "#***Merging the two Datasets***\n",
        "\n",
        "\n"
      ]
    },
    {
      "cell_type": "code",
      "execution_count": 34,
      "metadata": {
        "colab": {
          "background_save": true
        },
        "id": "rEVaXQMpMcw-"
      },
      "outputs": [],
      "source": [
        "df_1, df_2, df_3, df_4, df_5 = [x for _, x in df_weather.groupby('city_name')]\n",
        "dfs = [df_1, df_2, df_3, df_4, df_5]"
      ]
    },
    {
      "cell_type": "code",
      "execution_count": 35,
      "metadata": {
        "colab": {
          "background_save": true
        },
        "id": "pvTzIfCAMwRD",
        "outputId": "cea69377-133e-4641-9607-b684b4a245ee"
      },
      "outputs": [
        {
          "data": {
            "text/plain": [
              "Index(['generation biomass', 'generation fossil brown coal/lignite',\n",
              "       'generation fossil gas', 'generation fossil hard coal',\n",
              "       'generation fossil oil', 'generation hydro pumped storage consumption',\n",
              "       'generation hydro run-of-river and poundage',\n",
              "       'generation hydro water reservoir', 'generation nuclear',\n",
              "       'generation other', 'generation other renewable', 'generation solar',\n",
              "       'generation waste', 'generation wind onshore', 'total load actual',\n",
              "       'price day ahead', 'price actual', 'temp_Barcelona',\n",
              "       'temp_min_Barcelona', 'temp_max_Barcelona', 'pressure_Barcelona',\n",
              "       'humidity_Barcelona', 'wind_speed_Barcelona', 'wind_deg_Barcelona',\n",
              "       'rain_1h_Barcelona', 'rain_3h_Barcelona', 'snow_3h_Barcelona',\n",
              "       'clouds_all_Barcelona', 'temp_Bilbao', 'temp_min_Bilbao',\n",
              "       'temp_max_Bilbao', 'pressure_Bilbao', 'humidity_Bilbao',\n",
              "       'wind_speed_Bilbao', 'wind_deg_Bilbao', 'rain_1h_Bilbao',\n",
              "       'rain_3h_Bilbao', 'snow_3h_Bilbao', 'clouds_all_Bilbao', 'temp_Madrid',\n",
              "       'temp_min_Madrid', 'temp_max_Madrid', 'pressure_Madrid',\n",
              "       'humidity_Madrid', 'wind_speed_Madrid', 'wind_deg_Madrid',\n",
              "       'rain_1h_Madrid', 'rain_3h_Madrid', 'snow_3h_Madrid',\n",
              "       'clouds_all_Madrid', 'temp_Seville', 'temp_min_Seville',\n",
              "       'temp_max_Seville', 'pressure_Seville', 'humidity_Seville',\n",
              "       'wind_speed_Seville', 'wind_deg_Seville', 'rain_1h_Seville',\n",
              "       'rain_3h_Seville', 'snow_3h_Seville', 'clouds_all_Seville',\n",
              "       'temp_Valencia', 'temp_min_Valencia', 'temp_max_Valencia',\n",
              "       'pressure_Valencia', 'humidity_Valencia', 'wind_speed_Valencia',\n",
              "       'wind_deg_Valencia', 'rain_1h_Valencia', 'rain_3h_Valencia',\n",
              "       'snow_3h_Valencia', 'clouds_all_Valencia'],\n",
              "      dtype='object')"
            ]
          },
          "execution_count": 35,
          "metadata": {},
          "output_type": "execute_result"
        }
      ],
      "source": [
        "df_final = energy\n",
        "\n",
        "for df in dfs:\n",
        "    city = df['city_name'].unique()\n",
        "    city_str = str(city).replace(\"'\", \"\").replace('[', '').replace(']', '').replace(' ', '')\n",
        "    df = df.add_suffix('_{}'.format(city_str))\n",
        "    df_final = df_final.merge(df, on=['time'], how='outer')\n",
        "    df_final = df_final.drop('city_name_{}'.format(city_str), axis=1)\n",
        "\n",
        "df_final.columns"
      ]
    },
    {
      "cell_type": "code",
      "execution_count": 36,
      "metadata": {
        "colab": {
          "background_save": true
        },
        "id": "qDolnHKIM2lD",
        "outputId": "6981b8a3-ac33-472e-b18e-a152d19a8907"
      },
      "outputs": [
        {
          "name": "stdout",
          "output_type": "stream",
          "text": [
            "There are 0 missing values or NaNs in df_final.\n",
            "\n",
            "There are 0 duplicate rows in df_energy based on all columns.\n"
          ]
        }
      ],
      "source": [
        "print('There are {} missing values or NaNs in df_final.'\n",
        "      .format(df_final.isnull().values.sum()))\n",
        "\n",
        "temp_final = df_final.duplicated(keep='first').sum()\n",
        "\n",
        "print('\\nThere are {} duplicate rows in df_energy based on all columns.'\n",
        "      .format(temp_final))"
      ]
    },
    {
      "cell_type": "code",
      "execution_count": 37,
      "metadata": {
        "colab": {
          "background_save": true
        },
        "id": "soHWeRMuJJSd",
        "outputId": "247a7117-4ce8-4023-d00f-ffdf24aea7cf"
      },
      "outputs": [
        {
          "name": "stdout",
          "output_type": "stream",
          "text": [
            "<class 'pandas.core.frame.DataFrame'>\n",
            "DatetimeIndex: 35064 entries, 2014-12-31 23:00:00+00:00 to 2018-12-31 22:00:00+00:00\n",
            "Data columns (total 72 columns):\n",
            " #   Column                                       Non-Null Count  Dtype  \n",
            "---  ------                                       --------------  -----  \n",
            " 0   generation biomass                           35064 non-null  float64\n",
            " 1   generation fossil brown coal/lignite         35064 non-null  float64\n",
            " 2   generation fossil gas                        35064 non-null  float64\n",
            " 3   generation fossil hard coal                  35064 non-null  float64\n",
            " 4   generation fossil oil                        35064 non-null  float64\n",
            " 5   generation hydro pumped storage consumption  35064 non-null  float64\n",
            " 6   generation hydro run-of-river and poundage   35064 non-null  float64\n",
            " 7   generation hydro water reservoir             35064 non-null  float64\n",
            " 8   generation nuclear                           35064 non-null  float64\n",
            " 9   generation other                             35064 non-null  float64\n",
            " 10  generation other renewable                   35064 non-null  float64\n",
            " 11  generation solar                             35064 non-null  float64\n",
            " 12  generation waste                             35064 non-null  float64\n",
            " 13  generation wind onshore                      35064 non-null  float64\n",
            " 14  total load actual                            35064 non-null  float64\n",
            " 15  price day ahead                              35064 non-null  float64\n",
            " 16  price actual                                 35064 non-null  float64\n",
            " 17  temp_Barcelona                               35064 non-null  float64\n",
            " 18  temp_min_Barcelona                           35064 non-null  float64\n",
            " 19  temp_max_Barcelona                           35064 non-null  float64\n",
            " 20  pressure_Barcelona                           35064 non-null  float64\n",
            " 21  humidity_Barcelona                           35064 non-null  float64\n",
            " 22  wind_speed_Barcelona                         35064 non-null  float64\n",
            " 23  wind_deg_Barcelona                           35064 non-null  float64\n",
            " 24  rain_1h_Barcelona                            35064 non-null  float64\n",
            " 25  rain_3h_Barcelona                            35064 non-null  float64\n",
            " 26  snow_3h_Barcelona                            35064 non-null  float64\n",
            " 27  clouds_all_Barcelona                         35064 non-null  float64\n",
            " 28  temp_Bilbao                                  35064 non-null  float64\n",
            " 29  temp_min_Bilbao                              35064 non-null  float64\n",
            " 30  temp_max_Bilbao                              35064 non-null  float64\n",
            " 31  pressure_Bilbao                              35064 non-null  float64\n",
            " 32  humidity_Bilbao                              35064 non-null  float64\n",
            " 33  wind_speed_Bilbao                            35064 non-null  float64\n",
            " 34  wind_deg_Bilbao                              35064 non-null  float64\n",
            " 35  rain_1h_Bilbao                               35064 non-null  float64\n",
            " 36  rain_3h_Bilbao                               35064 non-null  float64\n",
            " 37  snow_3h_Bilbao                               35064 non-null  float64\n",
            " 38  clouds_all_Bilbao                            35064 non-null  float64\n",
            " 39  temp_Madrid                                  35064 non-null  float64\n",
            " 40  temp_min_Madrid                              35064 non-null  float64\n",
            " 41  temp_max_Madrid                              35064 non-null  float64\n",
            " 42  pressure_Madrid                              35064 non-null  float64\n",
            " 43  humidity_Madrid                              35064 non-null  float64\n",
            " 44  wind_speed_Madrid                            35064 non-null  float64\n",
            " 45  wind_deg_Madrid                              35064 non-null  float64\n",
            " 46  rain_1h_Madrid                               35064 non-null  float64\n",
            " 47  rain_3h_Madrid                               35064 non-null  float64\n",
            " 48  snow_3h_Madrid                               35064 non-null  float64\n",
            " 49  clouds_all_Madrid                            35064 non-null  float64\n",
            " 50  temp_Seville                                 35064 non-null  float64\n",
            " 51  temp_min_Seville                             35064 non-null  float64\n",
            " 52  temp_max_Seville                             35064 non-null  float64\n",
            " 53  pressure_Seville                             35064 non-null  float64\n",
            " 54  humidity_Seville                             35064 non-null  float64\n",
            " 55  wind_speed_Seville                           35064 non-null  float64\n",
            " 56  wind_deg_Seville                             35064 non-null  float64\n",
            " 57  rain_1h_Seville                              35064 non-null  float64\n",
            " 58  rain_3h_Seville                              35064 non-null  float64\n",
            " 59  snow_3h_Seville                              35064 non-null  float64\n",
            " 60  clouds_all_Seville                           35064 non-null  float64\n",
            " 61  temp_Valencia                                35064 non-null  float64\n",
            " 62  temp_min_Valencia                            35064 non-null  float64\n",
            " 63  temp_max_Valencia                            35064 non-null  float64\n",
            " 64  pressure_Valencia                            35064 non-null  float64\n",
            " 65  humidity_Valencia                            35064 non-null  float64\n",
            " 66  wind_speed_Valencia                          35064 non-null  float64\n",
            " 67  wind_deg_Valencia                            35064 non-null  float64\n",
            " 68  rain_1h_Valencia                             35064 non-null  float64\n",
            " 69  rain_3h_Valencia                             35064 non-null  float64\n",
            " 70  snow_3h_Valencia                             35064 non-null  float64\n",
            " 71  clouds_all_Valencia                          35064 non-null  float64\n",
            "dtypes: float64(72)\n",
            "memory usage: 19.5 MB\n"
          ]
        }
      ],
      "source": [
        "df_final.info()"
      ]
    },
    {
      "cell_type": "code",
      "execution_count": 38,
      "metadata": {
        "colab": {
          "background_save": true
        },
        "id": "2OV8vlT6Ee2r"
      },
      "outputs": [],
      "source": [
        "cities = ['Barcelona', 'Bilbao', 'Madrid', 'Seville', 'Valencia']\n",
        "\n",
        "for city in cities:\n",
        "    df_final = df_final.drop(['rain_3h_{}'.format(city)], axis=1)"
      ]
    },
    {
      "cell_type": "code",
      "execution_count": 39,
      "metadata": {
        "colab": {
          "background_save": true
        },
        "id": "PGR87TBSzDW_",
        "outputId": "711f0a75-0daa-40ed-86ec-a56d8b5e5f5e"
      },
      "outputs": [
        {
          "data": {
            "text/html": [
              "<div>\n",
              "<style scoped>\n",
              "    .dataframe tbody tr th:only-of-type {\n",
              "        vertical-align: middle;\n",
              "    }\n",
              "\n",
              "    .dataframe tbody tr th {\n",
              "        vertical-align: top;\n",
              "    }\n",
              "\n",
              "    .dataframe thead th {\n",
              "        text-align: right;\n",
              "    }\n",
              "</style>\n",
              "<table border=\"1\" class=\"dataframe\">\n",
              "  <thead>\n",
              "    <tr style=\"text-align: right;\">\n",
              "      <th></th>\n",
              "      <th>generation biomass</th>\n",
              "      <th>generation fossil brown coal/lignite</th>\n",
              "      <th>generation fossil gas</th>\n",
              "      <th>generation fossil hard coal</th>\n",
              "      <th>generation fossil oil</th>\n",
              "      <th>generation hydro pumped storage consumption</th>\n",
              "      <th>generation hydro run-of-river and poundage</th>\n",
              "      <th>generation hydro water reservoir</th>\n",
              "      <th>generation nuclear</th>\n",
              "      <th>generation other</th>\n",
              "      <th>...</th>\n",
              "      <th>temp_Valencia</th>\n",
              "      <th>temp_min_Valencia</th>\n",
              "      <th>temp_max_Valencia</th>\n",
              "      <th>pressure_Valencia</th>\n",
              "      <th>humidity_Valencia</th>\n",
              "      <th>wind_speed_Valencia</th>\n",
              "      <th>wind_deg_Valencia</th>\n",
              "      <th>rain_1h_Valencia</th>\n",
              "      <th>snow_3h_Valencia</th>\n",
              "      <th>clouds_all_Valencia</th>\n",
              "    </tr>\n",
              "    <tr>\n",
              "      <th>time</th>\n",
              "      <th></th>\n",
              "      <th></th>\n",
              "      <th></th>\n",
              "      <th></th>\n",
              "      <th></th>\n",
              "      <th></th>\n",
              "      <th></th>\n",
              "      <th></th>\n",
              "      <th></th>\n",
              "      <th></th>\n",
              "      <th></th>\n",
              "      <th></th>\n",
              "      <th></th>\n",
              "      <th></th>\n",
              "      <th></th>\n",
              "      <th></th>\n",
              "      <th></th>\n",
              "      <th></th>\n",
              "      <th></th>\n",
              "      <th></th>\n",
              "      <th></th>\n",
              "    </tr>\n",
              "  </thead>\n",
              "  <tbody>\n",
              "    <tr>\n",
              "      <th>2014-12-31 23:00:00+00:00</th>\n",
              "      <td>447.0</td>\n",
              "      <td>329.0</td>\n",
              "      <td>4844.0</td>\n",
              "      <td>4821.0</td>\n",
              "      <td>162.0</td>\n",
              "      <td>863.0</td>\n",
              "      <td>1051.0</td>\n",
              "      <td>1899.0</td>\n",
              "      <td>7096.0</td>\n",
              "      <td>43.0</td>\n",
              "      <td>...</td>\n",
              "      <td>270.475</td>\n",
              "      <td>270.475</td>\n",
              "      <td>270.475</td>\n",
              "      <td>1001.0</td>\n",
              "      <td>77.0</td>\n",
              "      <td>1.0</td>\n",
              "      <td>62.0</td>\n",
              "      <td>0.0</td>\n",
              "      <td>0.0</td>\n",
              "      <td>0.0</td>\n",
              "    </tr>\n",
              "    <tr>\n",
              "      <th>2015-01-01 00:00:00+00:00</th>\n",
              "      <td>449.0</td>\n",
              "      <td>328.0</td>\n",
              "      <td>5196.0</td>\n",
              "      <td>4755.0</td>\n",
              "      <td>158.0</td>\n",
              "      <td>920.0</td>\n",
              "      <td>1009.0</td>\n",
              "      <td>1658.0</td>\n",
              "      <td>7096.0</td>\n",
              "      <td>43.0</td>\n",
              "      <td>...</td>\n",
              "      <td>270.475</td>\n",
              "      <td>270.475</td>\n",
              "      <td>270.475</td>\n",
              "      <td>1001.0</td>\n",
              "      <td>77.0</td>\n",
              "      <td>1.0</td>\n",
              "      <td>62.0</td>\n",
              "      <td>0.0</td>\n",
              "      <td>0.0</td>\n",
              "      <td>0.0</td>\n",
              "    </tr>\n",
              "    <tr>\n",
              "      <th>2015-01-01 01:00:00+00:00</th>\n",
              "      <td>448.0</td>\n",
              "      <td>323.0</td>\n",
              "      <td>4857.0</td>\n",
              "      <td>4581.0</td>\n",
              "      <td>157.0</td>\n",
              "      <td>1164.0</td>\n",
              "      <td>973.0</td>\n",
              "      <td>1371.0</td>\n",
              "      <td>7099.0</td>\n",
              "      <td>43.0</td>\n",
              "      <td>...</td>\n",
              "      <td>269.686</td>\n",
              "      <td>269.686</td>\n",
              "      <td>269.686</td>\n",
              "      <td>1002.0</td>\n",
              "      <td>78.0</td>\n",
              "      <td>0.0</td>\n",
              "      <td>23.0</td>\n",
              "      <td>0.0</td>\n",
              "      <td>0.0</td>\n",
              "      <td>0.0</td>\n",
              "    </tr>\n",
              "    <tr>\n",
              "      <th>2015-01-01 02:00:00+00:00</th>\n",
              "      <td>438.0</td>\n",
              "      <td>254.0</td>\n",
              "      <td>4314.0</td>\n",
              "      <td>4131.0</td>\n",
              "      <td>160.0</td>\n",
              "      <td>1503.0</td>\n",
              "      <td>949.0</td>\n",
              "      <td>779.0</td>\n",
              "      <td>7098.0</td>\n",
              "      <td>43.0</td>\n",
              "      <td>...</td>\n",
              "      <td>269.686</td>\n",
              "      <td>269.686</td>\n",
              "      <td>269.686</td>\n",
              "      <td>1002.0</td>\n",
              "      <td>78.0</td>\n",
              "      <td>0.0</td>\n",
              "      <td>23.0</td>\n",
              "      <td>0.0</td>\n",
              "      <td>0.0</td>\n",
              "      <td>0.0</td>\n",
              "    </tr>\n",
              "    <tr>\n",
              "      <th>2015-01-01 03:00:00+00:00</th>\n",
              "      <td>428.0</td>\n",
              "      <td>187.0</td>\n",
              "      <td>4130.0</td>\n",
              "      <td>3840.0</td>\n",
              "      <td>156.0</td>\n",
              "      <td>1826.0</td>\n",
              "      <td>953.0</td>\n",
              "      <td>720.0</td>\n",
              "      <td>7097.0</td>\n",
              "      <td>43.0</td>\n",
              "      <td>...</td>\n",
              "      <td>269.686</td>\n",
              "      <td>269.686</td>\n",
              "      <td>269.686</td>\n",
              "      <td>1002.0</td>\n",
              "      <td>78.0</td>\n",
              "      <td>0.0</td>\n",
              "      <td>23.0</td>\n",
              "      <td>0.0</td>\n",
              "      <td>0.0</td>\n",
              "      <td>0.0</td>\n",
              "    </tr>\n",
              "  </tbody>\n",
              "</table>\n",
              "<p>5 rows × 67 columns</p>\n",
              "</div>"
            ],
            "text/plain": [
              "                           generation biomass  \\\n",
              "time                                            \n",
              "2014-12-31 23:00:00+00:00               447.0   \n",
              "2015-01-01 00:00:00+00:00               449.0   \n",
              "2015-01-01 01:00:00+00:00               448.0   \n",
              "2015-01-01 02:00:00+00:00               438.0   \n",
              "2015-01-01 03:00:00+00:00               428.0   \n",
              "\n",
              "                           generation fossil brown coal/lignite  \\\n",
              "time                                                              \n",
              "2014-12-31 23:00:00+00:00                                 329.0   \n",
              "2015-01-01 00:00:00+00:00                                 328.0   \n",
              "2015-01-01 01:00:00+00:00                                 323.0   \n",
              "2015-01-01 02:00:00+00:00                                 254.0   \n",
              "2015-01-01 03:00:00+00:00                                 187.0   \n",
              "\n",
              "                           generation fossil gas  generation fossil hard coal  \\\n",
              "time                                                                            \n",
              "2014-12-31 23:00:00+00:00                 4844.0                       4821.0   \n",
              "2015-01-01 00:00:00+00:00                 5196.0                       4755.0   \n",
              "2015-01-01 01:00:00+00:00                 4857.0                       4581.0   \n",
              "2015-01-01 02:00:00+00:00                 4314.0                       4131.0   \n",
              "2015-01-01 03:00:00+00:00                 4130.0                       3840.0   \n",
              "\n",
              "                           generation fossil oil  \\\n",
              "time                                               \n",
              "2014-12-31 23:00:00+00:00                  162.0   \n",
              "2015-01-01 00:00:00+00:00                  158.0   \n",
              "2015-01-01 01:00:00+00:00                  157.0   \n",
              "2015-01-01 02:00:00+00:00                  160.0   \n",
              "2015-01-01 03:00:00+00:00                  156.0   \n",
              "\n",
              "                           generation hydro pumped storage consumption  \\\n",
              "time                                                                     \n",
              "2014-12-31 23:00:00+00:00                                        863.0   \n",
              "2015-01-01 00:00:00+00:00                                        920.0   \n",
              "2015-01-01 01:00:00+00:00                                       1164.0   \n",
              "2015-01-01 02:00:00+00:00                                       1503.0   \n",
              "2015-01-01 03:00:00+00:00                                       1826.0   \n",
              "\n",
              "                           generation hydro run-of-river and poundage  \\\n",
              "time                                                                    \n",
              "2014-12-31 23:00:00+00:00                                      1051.0   \n",
              "2015-01-01 00:00:00+00:00                                      1009.0   \n",
              "2015-01-01 01:00:00+00:00                                       973.0   \n",
              "2015-01-01 02:00:00+00:00                                       949.0   \n",
              "2015-01-01 03:00:00+00:00                                       953.0   \n",
              "\n",
              "                           generation hydro water reservoir  \\\n",
              "time                                                          \n",
              "2014-12-31 23:00:00+00:00                            1899.0   \n",
              "2015-01-01 00:00:00+00:00                            1658.0   \n",
              "2015-01-01 01:00:00+00:00                            1371.0   \n",
              "2015-01-01 02:00:00+00:00                             779.0   \n",
              "2015-01-01 03:00:00+00:00                             720.0   \n",
              "\n",
              "                           generation nuclear  generation other  ...  \\\n",
              "time                                                             ...   \n",
              "2014-12-31 23:00:00+00:00              7096.0              43.0  ...   \n",
              "2015-01-01 00:00:00+00:00              7096.0              43.0  ...   \n",
              "2015-01-01 01:00:00+00:00              7099.0              43.0  ...   \n",
              "2015-01-01 02:00:00+00:00              7098.0              43.0  ...   \n",
              "2015-01-01 03:00:00+00:00              7097.0              43.0  ...   \n",
              "\n",
              "                           temp_Valencia  temp_min_Valencia  \\\n",
              "time                                                          \n",
              "2014-12-31 23:00:00+00:00        270.475            270.475   \n",
              "2015-01-01 00:00:00+00:00        270.475            270.475   \n",
              "2015-01-01 01:00:00+00:00        269.686            269.686   \n",
              "2015-01-01 02:00:00+00:00        269.686            269.686   \n",
              "2015-01-01 03:00:00+00:00        269.686            269.686   \n",
              "\n",
              "                           temp_max_Valencia  pressure_Valencia  \\\n",
              "time                                                              \n",
              "2014-12-31 23:00:00+00:00            270.475             1001.0   \n",
              "2015-01-01 00:00:00+00:00            270.475             1001.0   \n",
              "2015-01-01 01:00:00+00:00            269.686             1002.0   \n",
              "2015-01-01 02:00:00+00:00            269.686             1002.0   \n",
              "2015-01-01 03:00:00+00:00            269.686             1002.0   \n",
              "\n",
              "                           humidity_Valencia  wind_speed_Valencia  \\\n",
              "time                                                                \n",
              "2014-12-31 23:00:00+00:00               77.0                  1.0   \n",
              "2015-01-01 00:00:00+00:00               77.0                  1.0   \n",
              "2015-01-01 01:00:00+00:00               78.0                  0.0   \n",
              "2015-01-01 02:00:00+00:00               78.0                  0.0   \n",
              "2015-01-01 03:00:00+00:00               78.0                  0.0   \n",
              "\n",
              "                           wind_deg_Valencia  rain_1h_Valencia  \\\n",
              "time                                                             \n",
              "2014-12-31 23:00:00+00:00               62.0               0.0   \n",
              "2015-01-01 00:00:00+00:00               62.0               0.0   \n",
              "2015-01-01 01:00:00+00:00               23.0               0.0   \n",
              "2015-01-01 02:00:00+00:00               23.0               0.0   \n",
              "2015-01-01 03:00:00+00:00               23.0               0.0   \n",
              "\n",
              "                           snow_3h_Valencia  clouds_all_Valencia  \n",
              "time                                                              \n",
              "2014-12-31 23:00:00+00:00               0.0                  0.0  \n",
              "2015-01-01 00:00:00+00:00               0.0                  0.0  \n",
              "2015-01-01 01:00:00+00:00               0.0                  0.0  \n",
              "2015-01-01 02:00:00+00:00               0.0                  0.0  \n",
              "2015-01-01 03:00:00+00:00               0.0                  0.0  \n",
              "\n",
              "[5 rows x 67 columns]"
            ]
          },
          "execution_count": 39,
          "metadata": {},
          "output_type": "execute_result"
        }
      ],
      "source": [
        "#df_final.to_csv('CleanedData.csv')\n",
        "df_final.head()"
      ]
    },
    {
      "cell_type": "code",
      "execution_count": null,
      "metadata": {},
      "outputs": [],
      "source": []
    }
  ],
  "metadata": {
    "colab": {
      "collapsed_sections": [
        "RbWJcsnQ4ENi"
      ],
      "provenance": []
    },
    "kernelspec": {
      "display_name": "Python 3",
      "name": "python3"
    },
    "language_info": {
      "codemirror_mode": {
        "name": "ipython",
        "version": 3
      },
      "file_extension": ".py",
      "mimetype": "text/x-python",
      "name": "python",
      "nbconvert_exporter": "python",
      "pygments_lexer": "ipython3",
      "version": "3.11.1"
    }
  },
  "nbformat": 4,
  "nbformat_minor": 0
}
